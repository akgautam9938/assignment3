{
 "cells": [
  {
   "cell_type": "code",
   "execution_count": 2,
   "id": "02131e74-ff62-4e28-b783-613312b7179b",
   "metadata": {},
   "outputs": [],
   "source": [
    "#Q1. Which keyword is used to create a function? Create a function to return a list of odd numbers in the range of 1 to 25."
   ]
  },
  {
   "cell_type": "code",
   "execution_count": 8,
   "id": "c7d436ba-c088-4582-a7be-a9b34d74568c",
   "metadata": {},
   "outputs": [],
   "source": [
    "# ANSWER\n",
    "l =\"list of odd numbers\"\n",
    "b = \"odd number\""
   ]
  },
  {
   "cell_type": "code",
   "execution_count": 4,
   "id": "9df0d33d-951b-4dbe-9d74-4116d91aab1c",
   "metadata": {},
   "outputs": [],
   "source": [
    "def l():\n",
    "    b = []\n",
    "    for i in range(1, 26):\n",
    "        if i % 2 != 0:\n",
    "            b.append(i)\n",
    "    return b"
   ]
  },
  {
   "cell_type": "code",
   "execution_count": 6,
   "id": "0a0e547d-1031-4c79-96ec-6bad7573d460",
   "metadata": {},
   "outputs": [
    {
     "data": {
      "text/plain": [
       "[1, 3, 5, 7, 9, 11, 13, 15, 17, 19, 21, 23, 25]"
      ]
     },
     "execution_count": 6,
     "metadata": {},
     "output_type": "execute_result"
    }
   ],
   "source": [
    "l()"
   ]
  },
  {
   "cell_type": "code",
   "execution_count": 7,
   "id": "bb0ff19c-51ad-4e2a-b9d1-b4da77b21e0d",
   "metadata": {},
   "outputs": [],
   "source": [
    "#Q2. Why *args and **kwargs is used in some functions? Create a function each for *args and **kwargs to demonstrate their use."
   ]
  },
  {
   "cell_type": "code",
   "execution_count": 9,
   "id": "5d163e52-f7c9-4898-8293-ee1c48b90b5e",
   "metadata": {},
   "outputs": [],
   "source": [
    "# ANSWER"
   ]
  },
  {
   "cell_type": "code",
   "execution_count": 18,
   "id": "0cbbec3d-97a2-4cd4-907a-6204c4795891",
   "metadata": {},
   "outputs": [],
   "source": [
    "# * = meaning of \"* \"you can pass n  number of arguments inside a function in the form of tuple.\n",
    "# ** =meaning of \"** \"you can pass n  number of arguments inside a function in the form of dict."
   ]
  },
  {
   "cell_type": "code",
   "execution_count": 11,
   "id": "6d8c7618-980a-4236-b1af-005b66fa13a9",
   "metadata": {},
   "outputs": [],
   "source": [
    "# *\n",
    "def test11(*args):\n",
    "    return args"
   ]
  },
  {
   "cell_type": "code",
   "execution_count": 12,
   "id": "911b6d51-c970-4dc4-a6d2-5dfebc6ccff1",
   "metadata": {},
   "outputs": [
    {
     "data": {
      "text/plain": [
       "tuple"
      ]
     },
     "execution_count": 12,
     "metadata": {},
     "output_type": "execute_result"
    }
   ],
   "source": [
    "type(test11())"
   ]
  },
  {
   "cell_type": "code",
   "execution_count": 13,
   "id": "9d8b625b-7bc7-4c77-84fb-e00572710e97",
   "metadata": {},
   "outputs": [
    {
     "data": {
      "text/plain": [
       "(1, 2, 3, 'abhi', 'kumar', [1, 2, 3, 4, 4])"
      ]
     },
     "execution_count": 13,
     "metadata": {},
     "output_type": "execute_result"
    }
   ],
   "source": [
    "test11(1,2,3,\"abhi\" , \"kumar\" , [1,2,3,4,4])"
   ]
  },
  {
   "cell_type": "code",
   "execution_count": 14,
   "id": "79803315-24ff-41bf-bd88-e8aadc71f913",
   "metadata": {},
   "outputs": [],
   "source": [
    "# **\n",
    "def test15(**kwargs):\n",
    "    return kwargs\n"
   ]
  },
  {
   "cell_type": "code",
   "execution_count": 15,
   "id": "cb44a7c1-273b-4423-aaec-65b5100ebf16",
   "metadata": {},
   "outputs": [
    {
     "data": {
      "text/plain": [
       "{}"
      ]
     },
     "execution_count": 15,
     "metadata": {},
     "output_type": "execute_result"
    }
   ],
   "source": [
    "test15()"
   ]
  },
  {
   "cell_type": "code",
   "execution_count": 16,
   "id": "2d9ad5ae-e8a7-4bc2-84ec-c75467137b5f",
   "metadata": {},
   "outputs": [
    {
     "data": {
      "text/plain": [
       "dict"
      ]
     },
     "execution_count": 16,
     "metadata": {},
     "output_type": "execute_result"
    }
   ],
   "source": [
    "type(test15())"
   ]
  },
  {
   "cell_type": "code",
   "execution_count": 17,
   "id": "81f2abfc-89e6-42d0-b542-c4b472cf5b1a",
   "metadata": {},
   "outputs": [
    {
     "data": {
      "text/plain": [
       "{'a': [1, 2, 3, 4], 'b': 'gautam', 'c': 23.45}"
      ]
     },
     "execution_count": 17,
     "metadata": {},
     "output_type": "execute_result"
    }
   ],
   "source": [
    "test15(a = [1,2,3,4] , b = \"gautam\" , c = 23.45 )"
   ]
  },
  {
   "cell_type": "markdown",
   "id": "2b2696de-4ea6-41c1-9f12-1ac242cb5684",
   "metadata": {},
   "source": [
    "Q3. What is an iterator in python? Name the method used to initialise the iterator object and the method\n",
    "used for iteration. Use these methods to print the first five elements of the given list [2, 4, 6, 8, 10, 12, 14,\n",
    "16, 18, 20]."
   ]
  },
  {
   "cell_type": "markdown",
   "id": "a668176d-28c9-4b25-b986-cdf091cdef62",
   "metadata": {},
   "source": [
    "ANSWER:-"
   ]
  },
  {
   "cell_type": "markdown",
   "id": "8974618c-45f2-49cd-bf1f-66399254d94a",
   "metadata": {},
   "source": [
    "In Python, an iterator is an object that allows iteration over a sequence of elements. It provides a way to access the elements of a collection one at a time without having to know the specific details of the underlying collection's implementation.\n",
    "\n",
    "To initialize an iterator object, you can use the iter() function, which takes an iterable object as its argument and returns an iterator object. The iterator object can then be used for iteration using the next() function or a for loop.\n",
    "\n"
   ]
  },
  {
   "cell_type": "markdown",
   "id": "33547eba-9853-4596-8e51-c8b49aa556c2",
   "metadata": {},
   "source": [
    " l =[2, 4, 6, 8, 10, 12, 14, 16, 18, 20]\n"
   ]
  },
  {
   "cell_type": "code",
   "execution_count": 3,
   "id": "c9a4e0da-9455-4126-a609-946625445c5a",
   "metadata": {},
   "outputs": [],
   "source": [
    "    l1= iter(l)"
   ]
  },
  {
   "cell_type": "code",
   "execution_count": 4,
   "id": "d55aee49-0a53-4712-b0f8-ab2674616934",
   "metadata": {},
   "outputs": [
    {
     "data": {
      "text/plain": [
       "list_iterator"
      ]
     },
     "execution_count": 4,
     "metadata": {},
     "output_type": "execute_result"
    }
   ],
   "source": [
    "type(l1)"
   ]
  },
  {
   "cell_type": "code",
   "execution_count": 5,
   "id": "9d1bc68e-d1f7-4953-80d5-f702b14e3f54",
   "metadata": {},
   "outputs": [
    {
     "data": {
      "text/plain": [
       "2"
      ]
     },
     "execution_count": 5,
     "metadata": {},
     "output_type": "execute_result"
    }
   ],
   "source": [
    "next(l1)"
   ]
  },
  {
   "cell_type": "code",
   "execution_count": 6,
   "id": "c488960a-0627-4934-b5ad-262c4d5e5cff",
   "metadata": {},
   "outputs": [
    {
     "data": {
      "text/plain": [
       "4"
      ]
     },
     "execution_count": 6,
     "metadata": {},
     "output_type": "execute_result"
    }
   ],
   "source": [
    "next(l1)"
   ]
  },
  {
   "cell_type": "code",
   "execution_count": 7,
   "id": "e107d660-809e-4a6a-9ad5-f6200958f2a4",
   "metadata": {},
   "outputs": [
    {
     "data": {
      "text/plain": [
       "6"
      ]
     },
     "execution_count": 7,
     "metadata": {},
     "output_type": "execute_result"
    }
   ],
   "source": [
    "next(l1)"
   ]
  },
  {
   "cell_type": "code",
   "execution_count": 8,
   "id": "7488ef8a-6eea-405d-9845-f676f4fee9dc",
   "metadata": {},
   "outputs": [
    {
     "data": {
      "text/plain": [
       "8"
      ]
     },
     "execution_count": 8,
     "metadata": {},
     "output_type": "execute_result"
    }
   ],
   "source": [
    "next(l1)"
   ]
  },
  {
   "cell_type": "code",
   "execution_count": 9,
   "id": "e7ad5d81-000e-4b1e-b2d9-632632a83e51",
   "metadata": {},
   "outputs": [
    {
     "data": {
      "text/plain": [
       "10"
      ]
     },
     "execution_count": 9,
     "metadata": {},
     "output_type": "execute_result"
    }
   ],
   "source": [
    "next(l1)"
   ]
  },
  {
   "cell_type": "markdown",
   "id": "77d430f0-7895-4298-b01d-6bfa6ee5979f",
   "metadata": {},
   "source": [
    "Q4. What is a generator function in python? Why yield keyword is used? Give an example of a generator function."
   ]
  },
  {
   "cell_type": "markdown",
   "id": "4c1006cb-f5ae-412f-b001-46ed560365ba",
   "metadata": {},
   "source": [
    "ANSWER:-"
   ]
  },
  {
   "cell_type": "markdown",
   "id": "f26bccb3-75fa-49c8-9b28-17c1df304144",
   "metadata": {},
   "source": [
    "Generator function is basically used for reduce memory consumption of list. Generator function is also used to genrate the outcomes continuously  one by one without holding everything  into a memory. \"YIELD\" is a special type of number used to generate 'Generator function'."
   ]
  },
  {
   "cell_type": "code",
   "execution_count": 10,
   "id": "cfe4b067-75f1-47f5-ba62-7d91986c989f",
   "metadata": {},
   "outputs": [],
   "source": [
    "def test_fib(n):\n",
    "    a,b = 0,1\n",
    "    for i in range(n):\n",
    "        yield a \n",
    "        a,b = b , a+b"
   ]
  },
  {
   "cell_type": "code",
   "execution_count": null,
   "id": "07d7e76d-63cc-4250-8625-1fecddfc7ccd",
   "metadata": {},
   "outputs": [
    {
     "name": "stdout",
     "output_type": "stream",
     "text": [
      "0\n",
      "1\n",
      "1\n",
      "2\n",
      "3\n",
      "5\n",
      "8\n",
      "13\n",
      "21\n",
      "34\n"
     ]
    }
   ],
   "source": [
    "for i in test_fib(10):\n",
    "    print(i)"
   ]
  },
  {
   "cell_type": "code",
   "execution_count": 19,
   "id": "4090ff4d-3020-421c-9a2a-aa33bb0eba7c",
   "metadata": {},
   "outputs": [],
   "source": [
    "def test_fib1():\n",
    "    a,b = 0,1\n",
    "    while True:\n",
    "        yield a \n",
    "        a,b = b , a+b"
   ]
  },
  {
   "cell_type": "code",
   "execution_count": 20,
   "id": "d10003df-0eac-4824-b1bf-37960dffd143",
   "metadata": {},
   "outputs": [],
   "source": [
    "fib = test_fib1()"
   ]
  },
  {
   "cell_type": "code",
   "execution_count": 23,
   "id": "f42b5d79-7726-4005-b83a-3e60063c66cd",
   "metadata": {},
   "outputs": [
    {
     "data": {
      "text/plain": [
       "generator"
      ]
     },
     "execution_count": 23,
     "metadata": {},
     "output_type": "execute_result"
    }
   ],
   "source": [
    "type(fib)"
   ]
  },
  {
   "cell_type": "code",
   "execution_count": 24,
   "id": "0ac542e4-e7b2-42e4-9496-24cf8cc82d58",
   "metadata": {},
   "outputs": [
    {
     "name": "stdout",
     "output_type": "stream",
     "text": [
      "0\n",
      "1\n",
      "1\n",
      "2\n",
      "3\n",
      "5\n",
      "8\n",
      "13\n",
      "21\n",
      "34\n"
     ]
    }
   ],
   "source": [
    "for i in range(10):\n",
    "    print(next(fib))"
   ]
  },
  {
   "cell_type": "markdown",
   "id": "901341ab-9d9f-4225-acf6-781a85a9b3fb",
   "metadata": {},
   "source": [
    "Q5. Create a generator function for prime numbers less than 1000. Use the next() method to print the\n",
    "first 20 prime numbers."
   ]
  },
  {
   "cell_type": "markdown",
   "id": "ee653736-ea22-47e6-afab-6f7cb54df347",
   "metadata": {},
   "source": [
    "ANSWER"
   ]
  },
  {
   "cell_type": "code",
   "execution_count": null,
   "id": "a83587cf-a0cf-482e-9b54-6c9ca26b9202",
   "metadata": {},
   "outputs": [],
   "source": [
    "l,a,l1= 'prime_generator',\"number\",\"primes\"\n",
    "   "
   ]
  },
  {
   "cell_type": "code",
   "execution_count": 31,
   "id": "418cacba-f8a7-42fb-a4ff-cd6ce97f07d8",
   "metadata": {},
   "outputs": [],
   "source": [
    "def l():\n",
    "    l1 = []\n",
    "    a = 2\n",
    "    while a < 1000:\n",
    "        is_prime = True\n",
    "        for prime in l1:\n",
    "            if a % prime == 0:\n",
    "                is_prime = False\n",
    "                break\n",
    "        if is_prime:\n",
    "            l1.append(a)\n",
    "            yield a\n",
    "        a += 1"
   ]
  },
  {
   "cell_type": "code",
   "execution_count": 32,
   "id": "ef4e169a-fe05-42b0-ba4b-8e7350bbebbd",
   "metadata": {},
   "outputs": [
    {
     "name": "stdout",
     "output_type": "stream",
     "text": [
      "2\n",
      "3\n",
      "5\n",
      "7\n",
      "11\n",
      "13\n",
      "17\n",
      "19\n",
      "23\n",
      "29\n",
      "31\n",
      "37\n",
      "41\n",
      "43\n",
      "47\n",
      "53\n",
      "59\n",
      "61\n",
      "67\n",
      "71\n"
     ]
    }
   ],
   "source": [
    "generator =l()\n",
    "for _ in range(20):\n",
    "    prime = next(generator)\n",
    "    print(prime)"
   ]
  },
  {
   "cell_type": "markdown",
   "id": "229c9995-a780-4911-b59a-1557c8476efe",
   "metadata": {},
   "source": [
    "Q6.Write a python program to print the first 10 Fibonacci numbers using a while loop."
   ]
  },
  {
   "cell_type": "markdown",
   "id": "d0d85dd3-bd25-48d0-b704-1365f370f97e",
   "metadata": {},
   "source": [
    "answer"
   ]
  },
  {
   "cell_type": "code",
   "execution_count": 44,
   "id": "899e29ab-62c6-46a0-99c1-5a9ef21aef20",
   "metadata": {},
   "outputs": [],
   "source": [
    "def test_fib1():\n",
    "    a,b = 0,1\n",
    "    while True:\n",
    "        yield a \n",
    "        a,b = b , a+b\n",
    "        "
   ]
  },
  {
   "cell_type": "code",
   "execution_count": 46,
   "id": "b4e1ffcd-82ce-45ea-a815-b94fec9d4fc0",
   "metadata": {},
   "outputs": [],
   "source": [
    "fib = test_fib1()"
   ]
  },
  {
   "cell_type": "markdown",
   "id": "5a7e92dc-d0ea-4bdc-a16d-3ab132d95e92",
   "metadata": {},
   "source": [
    "for i in range(10):\n",
    "    print(next(fib))"
   ]
  },
  {
   "cell_type": "markdown",
   "id": "b683785d-9178-4c3b-867f-3fe7ea3d50d6",
   "metadata": {},
   "source": [
    "Q7. Write a List Comprehension to iterate through the given string: ‘pwskills’.\n",
    "Expected output: ['p', 'w', 's', 'k', 'i', 'l', 'l', 's']\n"
   ]
  },
  {
   "cell_type": "markdown",
   "id": "4ef6e2f9-cdd7-4a51-a20b-219d058f56c6",
   "metadata": {},
   "source": [
    "ANSWER"
   ]
  },
  {
   "cell_type": "code",
   "execution_count": 49,
   "id": "75fe91b5-3734-46b7-aa6b-8024040af793",
   "metadata": {},
   "outputs": [
    {
     "data": {
      "text/plain": [
       "['p', 'w', 's', 'k', 'i', 'l', 'l', 's']"
      ]
     },
     "execution_count": 49,
     "metadata": {},
     "output_type": "execute_result"
    }
   ],
   "source": [
    "s = \"pwskills\"\n",
    "list(map(lambda s : s.lower() , s))"
   ]
  },
  {
   "cell_type": "markdown",
   "id": "f6224408-5c7a-440f-87b2-9ccbf8cec3d1",
   "metadata": {},
   "source": [
    "Q8. Write a python program to check whether a given number is Palindrome or not using a while loop."
   ]
  },
  {
   "cell_type": "markdown",
   "id": "0c3095d4-83a4-48b9-9ed5-a99fb645cb53",
   "metadata": {},
   "source": [
    "ANSWER"
   ]
  },
  {
   "cell_type": "code",
   "execution_count": 51,
   "id": "29b8a679-eafd-4fdd-8fd9-71b29e00a3fe",
   "metadata": {},
   "outputs": [],
   "source": [
    "def is_palindrome(number):\n",
    "    original_number = number\n",
    "    reversed_number = 0\n",
    "    \n",
    "    while number > 0:\n",
    "        digit = number % 10\n",
    "        reversed_number = (reversed_number * 10) + digit\n",
    "        number = number // 10\n",
    "\n",
    "    if original_number == reversed_number:\n",
    "        return True\n",
    "    else:\n",
    "        return False\n"
   ]
  },
  {
   "cell_type": "code",
   "execution_count": 53,
   "id": "a020f6c4-bc5a-48d3-9f7a-335cce626ac4",
   "metadata": {},
   "outputs": [
    {
     "name": "stdin",
     "output_type": "stream",
     "text": [
      "Enter a number:  1414\n"
     ]
    },
    {
     "name": "stdout",
     "output_type": "stream",
     "text": [
      "1414 is not a palindrome.\n"
     ]
    }
   ],
   "source": [
    "num = int(input(\"Enter a number: \"))\n",
    "if is_palindrome(num):\n",
    "    print(num, \"is a palindrome!\")\n",
    "else:\n",
    "    print(num, \"is not a palindrome.\")"
   ]
  },
  {
   "cell_type": "markdown",
   "id": "c14f90ea-145e-4e5c-af86-b23aae130150",
   "metadata": {},
   "source": [
    "Q9. Write a code to print odd numbers from 1 to 100 using list comprehension."
   ]
  },
  {
   "cell_type": "markdown",
   "id": "2f7d6d6b-44f4-4543-a064-105b6ad653c1",
   "metadata": {},
   "source": [
    "ANSWER"
   ]
  },
  {
   "cell_type": "code",
   "execution_count": 54,
   "id": "53ff2039-f381-4486-a256-3e2675d3888d",
   "metadata": {},
   "outputs": [
    {
     "data": {
      "text/plain": [
       "[1,\n",
       " 3,\n",
       " 5,\n",
       " 7,\n",
       " 9,\n",
       " 11,\n",
       " 13,\n",
       " 15,\n",
       " 17,\n",
       " 19,\n",
       " 21,\n",
       " 23,\n",
       " 25,\n",
       " 27,\n",
       " 29,\n",
       " 31,\n",
       " 33,\n",
       " 35,\n",
       " 37,\n",
       " 39,\n",
       " 41,\n",
       " 43,\n",
       " 45,\n",
       " 47,\n",
       " 49,\n",
       " 51,\n",
       " 53,\n",
       " 55,\n",
       " 57,\n",
       " 59,\n",
       " 61,\n",
       " 63,\n",
       " 65,\n",
       " 67,\n",
       " 69,\n",
       " 71,\n",
       " 73,\n",
       " 75,\n",
       " 77,\n",
       " 79,\n",
       " 81,\n",
       " 83,\n",
       " 85,\n",
       " 87,\n",
       " 89,\n",
       " 91,\n",
       " 93,\n",
       " 95,\n",
       " 97,\n",
       " 99]"
      ]
     },
     "execution_count": 54,
     "metadata": {},
     "output_type": "execute_result"
    }
   ],
   "source": [
    "l = list(range(101))\n",
    "list(filter(lambda x : x % 2 != 0 , l))"
   ]
  },
  {
   "cell_type": "code",
   "execution_count": null,
   "id": "dcf93191-94c1-42a0-a09c-bd56dca5eab2",
   "metadata": {},
   "outputs": [],
   "source": []
  }
 ],
 "metadata": {
  "kernelspec": {
   "display_name": "Python 3 (ipykernel)",
   "language": "python",
   "name": "python3"
  },
  "language_info": {
   "codemirror_mode": {
    "name": "ipython",
    "version": 3
   },
   "file_extension": ".py",
   "mimetype": "text/x-python",
   "name": "python",
   "nbconvert_exporter": "python",
   "pygments_lexer": "ipython3",
   "version": "3.10.8"
  }
 },
 "nbformat": 4,
 "nbformat_minor": 5
}
